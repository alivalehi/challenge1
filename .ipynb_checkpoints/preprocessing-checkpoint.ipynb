{
 "cells": [
  {
   "cell_type": "markdown",
   "metadata": {},
   "source": [
    "## Loading data"
   ]
  },
  {
   "cell_type": "code",
   "execution_count": 17,
   "metadata": {
    "collapsed": true
   },
   "outputs": [],
   "source": [
    "import sqlite3\n",
    "import pandas as pd\n",
    "import numpy as np\n",
    "import json\n",
    "import datetime as dt\n",
    "import matplotlib.pyplot as plt\n",
    "from IPython.display import display"
   ]
  },
  {
   "cell_type": "code",
   "execution_count": 5,
   "metadata": {},
   "outputs": [],
   "source": [
    "conn = sqlite3.connect('sqlite.db')\n",
    "df = pd.read_sql_query(\"SELECT * FROM 'exec';\", conn)"
   ]
  },
  {
   "cell_type": "code",
   "execution_count": 20,
   "metadata": {},
   "outputs": [
    {
     "data": {
      "text/html": [
       "<div>\n",
       "<table border=\"1\" class=\"dataframe\">\n",
       "  <thead>\n",
       "    <tr style=\"text-align: right;\">\n",
       "      <th></th>\n",
       "      <th>ts</th>\n",
       "      <th>exe</th>\n",
       "      <th>pid</th>\n",
       "      <th>ppid</th>\n",
       "      <th>path</th>\n",
       "      <th>docker</th>\n",
       "      <th>depth</th>\n",
       "      <th>rates</th>\n",
       "      <th>rates1</th>\n",
       "      <th>rates5</th>\n",
       "    </tr>\n",
       "  </thead>\n",
       "  <tbody>\n",
       "    <tr>\n",
       "      <th>0</th>\n",
       "      <td>0.690</td>\n",
       "      <td>sh</td>\n",
       "      <td>28531</td>\n",
       "      <td>1158</td>\n",
       "      <td>/bin/sh</td>\n",
       "      <td>None</td>\n",
       "      <td>-1</td>\n",
       "      <td>{\"1\": 1.0, \"5\": 0.2}</td>\n",
       "      <td>1.0</td>\n",
       "      <td>0.2</td>\n",
       "    </tr>\n",
       "    <tr>\n",
       "      <th>1</th>\n",
       "      <td>0.696</td>\n",
       "      <td>lpstat</td>\n",
       "      <td>28532</td>\n",
       "      <td>28531</td>\n",
       "      <td>/usr/bin/lpstat</td>\n",
       "      <td>None</td>\n",
       "      <td>-1</td>\n",
       "      <td>{\"1\": 2.0, \"5\": 0.4}</td>\n",
       "      <td>2.0</td>\n",
       "      <td>0.4</td>\n",
       "    </tr>\n",
       "    <tr>\n",
       "      <th>2</th>\n",
       "      <td>0.701</td>\n",
       "      <td>sed</td>\n",
       "      <td>28533</td>\n",
       "      <td>28531</td>\n",
       "      <td>/bin/sed</td>\n",
       "      <td>None</td>\n",
       "      <td>-1</td>\n",
       "      <td>{\"1\": 3.0, \"5\": 0.6}</td>\n",
       "      <td>3.0</td>\n",
       "      <td>0.6</td>\n",
       "    </tr>\n",
       "    <tr>\n",
       "      <th>3</th>\n",
       "      <td>1.704</td>\n",
       "      <td>sh</td>\n",
       "      <td>28534</td>\n",
       "      <td>1158</td>\n",
       "      <td>/bin/sh</td>\n",
       "      <td>None</td>\n",
       "      <td>-1</td>\n",
       "      <td>{\"1\": 1.0, \"5\": 0.8}</td>\n",
       "      <td>1.0</td>\n",
       "      <td>0.8</td>\n",
       "    </tr>\n",
       "    <tr>\n",
       "      <th>4</th>\n",
       "      <td>1.711</td>\n",
       "      <td>sed</td>\n",
       "      <td>28536</td>\n",
       "      <td>28534</td>\n",
       "      <td>sed</td>\n",
       "      <td>None</td>\n",
       "      <td>-1</td>\n",
       "      <td>{\"1\": 2.0, \"5\": 1.0}</td>\n",
       "      <td>2.0</td>\n",
       "      <td>1.0</td>\n",
       "    </tr>\n",
       "  </tbody>\n",
       "</table>\n",
       "</div>"
      ],
      "text/plain": [
       "      ts     exe    pid   ppid             path docker  depth  \\\n",
       "0  0.690      sh  28531   1158          /bin/sh   None     -1   \n",
       "1  0.696  lpstat  28532  28531  /usr/bin/lpstat   None     -1   \n",
       "2  0.701     sed  28533  28531         /bin/sed   None     -1   \n",
       "3  1.704      sh  28534   1158          /bin/sh   None     -1   \n",
       "4  1.711     sed  28536  28534              sed   None     -1   \n",
       "\n",
       "                  rates  rates1  rates5  \n",
       "0  {\"1\": 1.0, \"5\": 0.2}     1.0     0.2  \n",
       "1  {\"1\": 2.0, \"5\": 0.4}     2.0     0.4  \n",
       "2  {\"1\": 3.0, \"5\": 0.6}     3.0     0.6  \n",
       "3  {\"1\": 1.0, \"5\": 0.8}     1.0     0.8  \n",
       "4  {\"1\": 2.0, \"5\": 1.0}     2.0     1.0  "
      ]
     },
     "metadata": {},
     "output_type": "display_data"
    }
   ],
   "source": [
    "display(df.head())"
   ]
  },
  {
   "cell_type": "code",
   "execution_count": 19,
   "metadata": {},
   "outputs": [],
   "source": [
    "df['rates1'] = np.nan\n",
    "df['rates5'] = np.nan\n",
    "for it in enumerate(df.rates.values):\n",
    "    Dic = json.loads((it[1]))\n",
    "    df.set_value(it[0], 'rates1', Dic[\"1\"])\n",
    "    df.set_value(it[0], 'rates5', Dic[\"5\"])\n",
    "    \n",
    "df.sort_values('ts').reset_index(drop=True)    \n",
    "   "
   ]
  },
  {
   "cell_type": "code",
   "execution_count": null,
   "metadata": {},
   "outputs": [],
   "source": []
  },
  {
   "cell_type": "code",
   "execution_count": null,
   "metadata": {
    "collapsed": true
   },
   "outputs": [],
   "source": []
  }
 ],
 "metadata": {
  "kernelspec": {
   "display_name": "Python 3",
   "language": "python",
   "name": "python3"
  },
  "language_info": {
   "codemirror_mode": {
    "name": "ipython",
    "version": 3
   },
   "file_extension": ".py",
   "mimetype": "text/x-python",
   "name": "python",
   "nbconvert_exporter": "python",
   "pygments_lexer": "ipython3",
   "version": "3.6.0"
  }
 },
 "nbformat": 4,
 "nbformat_minor": 2
}
